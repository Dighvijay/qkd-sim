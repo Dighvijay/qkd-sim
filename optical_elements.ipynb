{
 "cells": [
  {
   "cell_type": "code",
   "execution_count": 1,
   "metadata": {},
   "outputs": [],
   "source": [
    "import numpy as np\n",
    "import math"
   ]
  },
  {
   "cell_type": "code",
   "execution_count": 2,
   "metadata": {},
   "outputs": [],
   "source": [
    "class LinearPolarizer:\n",
    "    def __init__(self):\n",
    "        \n",
    "        self.x = np.array([[1], [0]])\n",
    "        self.y = np.array([[0], [1]])\n",
    "    \n",
    "    def horizontal_vertical(self, bit):\n",
    "        if bit == 0:\n",
    "            return self.x\n",
    "        else:\n",
    "            return self.y\n",
    "    \n",
    "    def diagonal_polarization(self, bit):\n",
    "        jones = (1/np.sqrt(2))*np.array([[1,1],[1,-1]])\n",
    "        \n",
    "        if bit == 0:\n",
    "            return np.dot(jones, self.x)\n",
    "        else:\n",
    "            return np.dot(jones, self.y)\n",
    "    \n",
    "    def general_polarization(self, angle, basis):\n",
    "        \"\"\"\n",
    "            angle to be in degrees\n",
    "        \"\"\"\n",
    "        angle = (math.pi/180) * (angle)\n",
    "        jones = np.array([[np.cos(angle), np.sin(angle)], [np.sin(angle), -np.cos(angle)]])\n",
    "        \n",
    "        return np.dot(jones, basis)\n",
    "\n",
    "class PolarizingBeamSplitter:\n",
    "    def __init__(self):\n",
    "        pass\n",
    "    \n",
    "    def measure(self, vector, basis):\n",
    "        \"\"\"\n",
    "            basis  : basis chosen by bob to measure polarization encoded photon\n",
    "                        0 -> horizontal/vertical \n",
    "                        1 -> diagonal\n",
    "            vector : Jones vector for polarized photon\n",
    "            \n",
    "            returns a dictionary with probabilities of the encoded bit sent by Alice being 0 or 1\n",
    "        \"\"\"\n",
    "        #horizontal-vertical can be clubbed into an identity matrix\n",
    "        horizontal = np.array([[1, 0], [0, 0]])\n",
    "        vertical = np.array([[0, 0], [0, 1]])\n",
    "        plus_minus = (1/np.sqrt(2))*np.array([[1,1],[1,-1]])\n",
    "\n",
    "        if basis == 0:\n",
    "            zero = np.dot(horizontal, vector)[0]\n",
    "            one = np.dot(vertical, vector)[1]\n",
    "        \n",
    "        elif basis == 1:\n",
    "            zero = np.dot(plus_minus, vector)[0]\n",
    "            one = np.dot(plus_minus, vector)[1]\n",
    "        else:\n",
    "            print(\"here\")\n",
    "            return None\n",
    "            \n",
    "        return {0: zero[0]**2, 1: one[0]**2}"
   ]
  },
  {
   "cell_type": "code",
   "execution_count": 3,
   "metadata": {},
   "outputs": [],
   "source": [
    "lp = LinearPolarizer()"
   ]
  },
  {
   "cell_type": "code",
   "execution_count": 4,
   "metadata": {},
   "outputs": [
    {
     "data": {
      "text/plain": [
       "array([[1],\n",
       "       [0]])"
      ]
     },
     "execution_count": 4,
     "metadata": {},
     "output_type": "execute_result"
    }
   ],
   "source": [
    "lp.horizontal_vertical(0)"
   ]
  },
  {
   "cell_type": "code",
   "execution_count": 5,
   "metadata": {},
   "outputs": [
    {
     "data": {
      "text/plain": [
       "array([[0.70710678],\n",
       "       [0.70710678]])"
      ]
     },
     "execution_count": 5,
     "metadata": {},
     "output_type": "execute_result"
    }
   ],
   "source": [
    "lp.diagonal_polarization(0)"
   ]
  },
  {
   "cell_type": "code",
   "execution_count": 6,
   "metadata": {},
   "outputs": [
    {
     "data": {
      "text/plain": [
       "array([[ 0.70710678],\n",
       "       [-0.70710678]])"
      ]
     },
     "execution_count": 6,
     "metadata": {},
     "output_type": "execute_result"
    }
   ],
   "source": [
    "lp.diagonal_polarization(1)"
   ]
  },
  {
   "cell_type": "code",
   "execution_count": 7,
   "metadata": {},
   "outputs": [
    {
     "data": {
      "text/plain": [
       "array([[0.70710678],\n",
       "       [0.70710678]])"
      ]
     },
     "execution_count": 7,
     "metadata": {},
     "output_type": "execute_result"
    }
   ],
   "source": [
    "lp.general_polarization(45, lp.x)"
   ]
  },
  {
   "cell_type": "code",
   "execution_count": 8,
   "metadata": {},
   "outputs": [],
   "source": [
    "pbs = PolarizingBeamSplitter()"
   ]
  },
  {
   "cell_type": "code",
   "execution_count": 9,
   "metadata": {},
   "outputs": [
    {
     "data": {
      "text/plain": [
       "{0: 0, 1: 1}"
      ]
     },
     "execution_count": 9,
     "metadata": {},
     "output_type": "execute_result"
    }
   ],
   "source": [
    "pbs.measure(lp.y, 0)"
   ]
  },
  {
   "cell_type": "code",
   "execution_count": 10,
   "metadata": {},
   "outputs": [
    {
     "data": {
      "text/plain": [
       "{0: 0.9999999999999996, 1: 0.0}"
      ]
     },
     "execution_count": 10,
     "metadata": {},
     "output_type": "execute_result"
    }
   ],
   "source": [
    "pbs.measure(lp.diagonal_polarization(0), 1)"
   ]
  },
  {
   "cell_type": "code",
   "execution_count": 11,
   "metadata": {},
   "outputs": [
    {
     "data": {
      "text/plain": [
       "{0: 0.4999999999999999, 1: 0.4999999999999999}"
      ]
     },
     "execution_count": 11,
     "metadata": {},
     "output_type": "execute_result"
    }
   ],
   "source": [
    "pbs.measure(lp.y, 1)"
   ]
  },
  {
   "cell_type": "code",
   "execution_count": null,
   "metadata": {},
   "outputs": [],
   "source": []
  }
 ],
 "metadata": {
  "kernelspec": {
   "display_name": "Python 3",
   "language": "python",
   "name": "python3"
  },
  "language_info": {
   "codemirror_mode": {
    "name": "ipython",
    "version": 3
   },
   "file_extension": ".py",
   "mimetype": "text/x-python",
   "name": "python",
   "nbconvert_exporter": "python",
   "pygments_lexer": "ipython3",
   "version": "3.6.9"
  }
 },
 "nbformat": 4,
 "nbformat_minor": 2
}
