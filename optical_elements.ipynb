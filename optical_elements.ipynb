{
 "cells": [
  {
   "cell_type": "code",
   "execution_count": 2,
   "metadata": {},
   "outputs": [],
   "source": [
    "import numpy as np\n",
    "import math"
   ]
  },
  {
   "cell_type": "code",
   "execution_count": 23,
   "metadata": {},
   "outputs": [],
   "source": [
    "class LinearPolarizer:\n",
    "    def __init__(self):\n",
    "        \n",
    "        self.x = np.array([[1], [0]])\n",
    "        self.y = np.array([[0], [1]])\n",
    "    \n",
    "    def horizontal_vertical(self, bit):\n",
    "        if bit == 0:\n",
    "            return self.x\n",
    "        else:\n",
    "            return self.y\n",
    "    \n",
    "    def diagonal_polarization(self, bit):\n",
    "        jones = (1/np.sqrt(2))*np.array([[1,1],[1,-1]])\n",
    "        \n",
    "        if bit == 0:\n",
    "            return np.dot(jones, self.x)\n",
    "        else:\n",
    "            return np.dot(jones, self.y)\n",
    "    \n",
    "    def general_polarization(self, angle, basis):\n",
    "        \"\"\"\n",
    "            angle to be in degrees\n",
    "        \"\"\"\n",
    "        angle = (math.pi/180) * (angle)\n",
    "        jones = np.array([[np.cos(angle), np.sin(angle)], [np.sin(angle), -np.cos(angle)]])\n",
    "        \n",
    "        return np.dot(jones, basis)\n",
    "\n",
    "class PolarizingBeamSplitter:\n",
    "    def __init__(self):\n",
    "        pass\n",
    "    \n",
    "    #TODO: add an additional rotation before measurement in case of diagonal basis measurement by Bob\n",
    "    def measure(self, vector):\n",
    "        horizontal = np.array([[1, 0], [0, 0]])\n",
    "        vertical = np.array([[0, 0], [0, 1]])\n",
    "        \n",
    "        zero = np.dot(horizontal, vector)\n",
    "        one = np.dot(vertical, vector)\n",
    "        \n",
    "        return {0: zero, 1: one}"
   ]
  },
  {
   "cell_type": "code",
   "execution_count": 15,
   "metadata": {},
   "outputs": [],
   "source": [
    "lp = LinearPolarizer()"
   ]
  },
  {
   "cell_type": "code",
   "execution_count": 5,
   "metadata": {},
   "outputs": [
    {
     "data": {
      "text/plain": [
       "array([[1],\n",
       "       [0]])"
      ]
     },
     "execution_count": 5,
     "metadata": {},
     "output_type": "execute_result"
    }
   ],
   "source": [
    "lp.horizontal_vertical(0)"
   ]
  },
  {
   "cell_type": "code",
   "execution_count": 6,
   "metadata": {},
   "outputs": [
    {
     "data": {
      "text/plain": [
       "array([[0.70710678],\n",
       "       [0.70710678]])"
      ]
     },
     "execution_count": 6,
     "metadata": {},
     "output_type": "execute_result"
    }
   ],
   "source": [
    "lp.diagonal_polarization(0)"
   ]
  },
  {
   "cell_type": "code",
   "execution_count": 7,
   "metadata": {},
   "outputs": [
    {
     "data": {
      "text/plain": [
       "array([[ 0.70710678],\n",
       "       [-0.70710678]])"
      ]
     },
     "execution_count": 7,
     "metadata": {},
     "output_type": "execute_result"
    }
   ],
   "source": [
    "lp.diagonal_polarization(1)"
   ]
  },
  {
   "cell_type": "code",
   "execution_count": 16,
   "metadata": {},
   "outputs": [
    {
     "data": {
      "text/plain": [
       "array([[0.70710678],\n",
       "       [0.70710678]])"
      ]
     },
     "execution_count": 16,
     "metadata": {},
     "output_type": "execute_result"
    }
   ],
   "source": [
    "lp.general_polarization(45, lp.x)"
   ]
  },
  {
   "cell_type": "code",
   "execution_count": 18,
   "metadata": {},
   "outputs": [],
   "source": [
    "pbs = PolarizingBeamSplitter()"
   ]
  },
  {
   "cell_type": "code",
   "execution_count": 21,
   "metadata": {},
   "outputs": [
    {
     "data": {
      "text/plain": [
       "{0: array([[1],\n",
       "        [0]]), 1: array([[0],\n",
       "        [0]])}"
      ]
     },
     "execution_count": 21,
     "metadata": {},
     "output_type": "execute_result"
    }
   ],
   "source": [
    "pbs.measure(lp.x)"
   ]
  },
  {
   "cell_type": "code",
   "execution_count": 22,
   "metadata": {},
   "outputs": [
    {
     "data": {
      "text/plain": [
       "{0: array([[0.70710678],\n",
       "        [0.        ]]), 1: array([[0.        ],\n",
       "        [0.70710678]])}"
      ]
     },
     "execution_count": 22,
     "metadata": {},
     "output_type": "execute_result"
    }
   ],
   "source": [
    "pbs.measure(lp.diagonal_polarization(0))"
   ]
  },
  {
   "cell_type": "code",
   "execution_count": null,
   "metadata": {},
   "outputs": [],
   "source": []
  }
 ],
 "metadata": {
  "kernelspec": {
   "display_name": "Python 3",
   "language": "python",
   "name": "python3"
  },
  "language_info": {
   "codemirror_mode": {
    "name": "ipython",
    "version": 3
   },
   "file_extension": ".py",
   "mimetype": "text/x-python",
   "name": "python",
   "nbconvert_exporter": "python",
   "pygments_lexer": "ipython3",
   "version": "3.6.9"
  }
 },
 "nbformat": 4,
 "nbformat_minor": 2
}
