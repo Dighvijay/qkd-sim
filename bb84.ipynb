{
 "cells": [
  {
   "cell_type": "code",
   "execution_count": 1,
   "metadata": {},
   "outputs": [],
   "source": [
    "def basis_reconciliation(alice, bob):\n",
    "    \"\"\"\n",
    "        alice: {no. : [bit encoded, basis chosen to encode in ]}\n",
    "        bob  : {no. : [bit after measurement, basis chosen to measure in]}\n",
    "        \n",
    "        First check if the length of both lists are the same\n",
    "            -> if yes, keep only those bits for alice and bob for which\n",
    "               the basis encoded in and measured in is the same. \n",
    "    \"\"\"\n",
    "    basis_bit_alice = list(alice.values())\n",
    "    basis_bit_bob = list(bob.values())\n",
    "    \n",
    "    if len(basis_bit_alice) == len(basis_bit_bob):\n",
    "        raw_key_alice = []\n",
    "        raw_key_bob = []\n",
    "\n",
    "        for i in range(len(basis_bit_alice)):\n",
    "            if basis_bit_alice[i][1] == basis_bit_bob[i][1]:\n",
    "                raw_key_alice.append(basis_bit_alice[i][0])\n",
    "                raw_key_bob.append(basis_bit_bob[i][0])\n",
    "\n",
    "        return raw_key_alice, raw_key_bob\n",
    "    \n",
    "    else:\n",
    "        return None, None"
   ]
  },
  {
   "cell_type": "code",
   "execution_count": 2,
   "metadata": {},
   "outputs": [],
   "source": [
    "alice = {1:[0,0],2:[0,1],3:[0,0]}\n",
    "bob = {1:[1,0],2:[0,0],3:[1,0]}"
   ]
  },
  {
   "cell_type": "code",
   "execution_count": 3,
   "metadata": {},
   "outputs": [
    {
     "data": {
      "text/plain": [
       "([0, 0], [1, 1])"
      ]
     },
     "execution_count": 3,
     "metadata": {},
     "output_type": "execute_result"
    }
   ],
   "source": [
    "basis_reconciliation(alice, bob)"
   ]
  },
  {
   "cell_type": "code",
   "execution_count": 4,
   "metadata": {},
   "outputs": [],
   "source": [
    "class Alice:\n",
    "    def __init__(self, n):\n",
    "        self.n = n\n",
    "        self.alice = {} #{no. : [bit encoded, basis chosen to encode in ]} no. is some unique number\n",
    "                        #{1:[0,0],2:[0,1],3:[0,0]} Example\n",
    "\n",
    "    def generate_and_encode(self): #TODO Dighvijay\n",
    "        \"\"\"\n",
    "            Will generate n bits randomly\n",
    "            For each bit generated, a basis is chosen in which it is encoded\n",
    "            Dependency for encoding: <class LinearPolarizer>\n",
    "                0-> horizontal/vertical polarization\n",
    "                1-> diagonal polarization\n",
    "            \n",
    "            Should generate a dictionary of the form self.alice mentioned above\n",
    "        \"\"\"\n",
    "        pass\n",
    "    \n",
    "\n",
    "class Bob:\n",
    "    def __init__(self, n):\n",
    "        self.n = n\n",
    "        self.bob = {} #{no. : [bit after measurement, basis chosen to measure in]}\n",
    "                      #{1:[1,0],2:[0,0],3:[1,0]} Example\n",
    "    \n",
    "    def choose_basis_and_measure(self, received): #TODO Dighvijay\n",
    "        \"\"\"\n",
    "            received : the data received by bob\n",
    "            Dependency for measurement: <class PolarizingBeamSplitter>\n",
    "            \n",
    "                0-> horizontal/vertical polarization\n",
    "                1-> diagonal polarization\n",
    "            \n",
    "            Should generate a dictionary of the form self.bob mentioned above\n",
    "        \"\"\"\n",
    "        pass\n",
    "    \n",
    "    "
   ]
  },
  {
   "cell_type": "code",
   "execution_count": 5,
   "metadata": {},
   "outputs": [],
   "source": [
    "def calc_error_rate(alice_b, bob_b):\n",
    "    error = 0\n",
    "    count = 0\n",
    "    for j in range(0, len(alice_b), 4):\n",
    "        i = j-count\n",
    "        #i = alice_b.index(j)\n",
    "        if(alice_b[i]!=bob_b[i]):\n",
    "            error+=1\n",
    "        count+=1\n",
    "        alice_b.pop(i)\n",
    "        #alice.pop(i)\n",
    "        bob_b.pop(i)\n",
    "        #bob.pop(i)\n",
    "    error_rate = float(error/count)\n",
    "    return error, count, error_rate\n",
    "\n",
    "def set_length(error, count):\n",
    "    s_len = int(count/error)\n",
    "    if s_len<3:\n",
    "        return 3\n",
    "    return s_len\n",
    "def find_parity(bits):\n",
    "    count = 0\n",
    "    for i in bits:\n",
    "        count+=i\n",
    "    par = count%2\n",
    "    return par\n",
    "\n",
    "def remove_last(bits):\n",
    "    bits.pop()\n",
    "    return bits\n",
    "\n",
    "\n",
    "def binary_search(alice_sub, bob_sub):\n",
    "    r = len(alice_sub)\n",
    "    l = 0\n",
    "    \n",
    "    while(l < r):\n",
    "        alice = alice_sub[l:r]\n",
    "        bob = bob_sub[l:r]\n",
    "        m = int((r + l)/2)        \n",
    "        if (find_parity(alice) != find_parity(bob)):\n",
    "            l = m + 1\n",
    "        else:\n",
    "            r = m - 1\n",
    "\n",
    "    bob_sub[m] = int(not bob_sub[m])\n",
    "    \n",
    "    return bob_sub\n",
    "\n",
    "def get_subsets(error, count, alice_b, bob_b):\n",
    "    alice, bob = [], []\n",
    "    n = len(alice_b)\n",
    "    subset_size = set_length(error, count)\n",
    "    for i in range(0, n, subset_size):\n",
    "        alice.append(alice_b[i:i+subset_size])\n",
    "        bob.append(bob_b[i:i+subset_size])\n",
    "        \n",
    "    return alice, bob\n",
    "\n",
    "def error_correction(alice_b, bob_b, error, count):\n",
    "    alice_sub, bob_sub = [], []\n",
    "    alice_sub, bob_sub = get_subsets(error, count, alice_b, bob_b)\n",
    "    par_alice, par_bob = [], []\n",
    "    for i in range(len(alice_sub)):\n",
    "        par_alice.append(find_parity(alice_sub[i]))\n",
    "        alice_sub[i].pop(0)\n",
    "        par_bob.append(find_parity(bob_sub[i]))\n",
    "        bob_sub[i].pop(0)\n",
    "\n",
    "    corrected_alice, corrected_bob = [], []\n",
    "    for i in range(len(par_alice)):\n",
    "        if par_alice[i]==par_bob[i]:\n",
    "            corrected_bob.append(bob_sub[i])\n",
    "        else:\n",
    "            corrected_bob.append(binary_search(alice_sub[i], bob_sub[i]))\n",
    "        corrected_alice.append(alice_sub[i])\n",
    "    return corrected_alice, corrected_bob\n",
    "    \n",
    "\n",
    "\n",
    "#Selecting set length\n",
    "#Formula: n-k-s\n",
    "#n: total number of bits,\n",
    "#k: estimated maximum number of bits known by eve (double the error rate)\n",
    "#s: security parameter\n",
    "#parities of these subsets becomes final key\n",
    "\n",
    "\"\"\"\n",
    "k = int(2*error) + 1\n",
    "n = len(alice_b)\n",
    "s = n - 2k\n",
    "if s>7 or s<0:\n",
    "    s = 4\n",
    "for i in range()\n",
    "\"\"\"\n",
    "\n",
    "def privacy_amplification(n, error_rate, s, alice_bit, bob_bit):\n",
    "    k = int(error_rate * 2) \n",
    "    subset_size = n - k - s\n",
    "    final_alice = []\n",
    "    final_bob = []\n",
    "    \n",
    "    alice_b = []\n",
    "    bob_b = []\n",
    "    \n",
    "    alice_subsets = []\n",
    "    bob_subsets = []\n",
    "    \n",
    "    for i in alice_bit:\n",
    "        for j in i:\n",
    "            alice_b.append(j)\n",
    "    \n",
    "    for i in bob_bit:\n",
    "        for j in i:\n",
    "            bob_b.append(j)\n",
    "    \n",
    "    for i in range(0, n, subset_size):\n",
    "        alice_subsets.append(alice_b[i:i+subset_size])\n",
    "        bob_subsets.append(bob_b[i:i+subset_size])\n",
    "        \n",
    "    bob_parity = 0\n",
    "    alice_parity = 0\n",
    "    \n",
    "    #calculate parities of sets and compare and eliminate if parities dont match\n",
    "    for i in range(len(alice_subsets)):\n",
    "        \n",
    "        alice = find_parity(alice_subsets[i])\n",
    "        bob = find_parity(bob_subsets[i])\n",
    "                \n",
    "        if alice == bob:\n",
    "            final_alice.append(alice)\n",
    "            final_bob.append(bob)\n",
    "    \n",
    "    return final_alice, final_bob"
   ]
  },
  {
   "cell_type": "code",
   "execution_count": 6,
   "metadata": {},
   "outputs": [],
   "source": [
    "import numpy as np\n",
    "import random\n",
    "import copy\n",
    "from itertools import chain"
   ]
  },
  {
   "cell_type": "code",
   "execution_count": 7,
   "metadata": {},
   "outputs": [],
   "source": [
    "class LinearPolarizer:\n",
    "    def __init__(self):\n",
    "        \n",
    "        self.x = np.array([[1], [0]])\n",
    "        self.y = np.array([[0], [1]])\n",
    "    \n",
    "    def horizontal_vertical(self, bit):\n",
    "        if bit == 0:\n",
    "            return self.x\n",
    "        else:\n",
    "            return self.y\n",
    "    \n",
    "    def diagonal_polarization(self, bit):\n",
    "        jones = (1/np.sqrt(2))*np.array([[1,1],[1,-1]])\n",
    "        \n",
    "        if bit == 0:\n",
    "            return np.dot(jones, self.x)\n",
    "        else:\n",
    "            return np.dot(jones, self.y)\n",
    "    \n",
    "    def general_polarization(self, angle, basis):\n",
    "        \"\"\"\n",
    "            angle to be in degrees\n",
    "        \"\"\"\n",
    "        angle = (math.pi/180) * (angle)\n",
    "        jones = np.array([[np.cos(angle), np.sin(angle)], [np.sin(angle), -np.cos(angle)]])\n",
    "        \n",
    "        return np.dot(jones, basis)\n",
    "\n",
    "class PolarizingBeamSplitter:\n",
    "    def __init__(self):\n",
    "        pass\n",
    "    \n",
    "    def measure(self, vector, basis):\n",
    "        \"\"\"\n",
    "            basis  : basis chosen by bob to measure polarization encoded photon\n",
    "                        0 -> horizontal/vertical \n",
    "                        1 -> diagonal\n",
    "            vector : Jones vector for polarized photon\n",
    "            \n",
    "            returns a dictionary with probabilities of the encoded bit sent by Alice being 0 or 1\n",
    "        \"\"\"\n",
    "        #horizontal-vertical can be clubbed into an identity matrix\n",
    "        horizontal = np.array([[1, 0], [0, 0]])\n",
    "        vertical = np.array([[0, 0], [0, 1]])\n",
    "        plus_minus = (1/np.sqrt(2))*np.array([[1,1],[1,-1]])\n",
    "\n",
    "        if basis == 0:\n",
    "            zero = np.dot(horizontal, vector)[0]\n",
    "            one = np.dot(vertical, vector)[1]\n",
    "        \n",
    "        elif basis == 1:\n",
    "            zero = np.dot(plus_minus, vector)[0]\n",
    "            one = np.dot(plus_minus, vector)[1]\n",
    "        else:\n",
    "            print(\"here\")\n",
    "            return None\n",
    "            \n",
    "        return {0: zero[0]**2, 1: one[0]**2}\n",
    "class Alice:\n",
    "    def __init__(self, n):\n",
    "        self.n = n\n",
    "        self.alice = {} #{no. : [bit encoded, basis chosen to encode in ]} no. is some unique number\n",
    "                        #{1:[0,0],2:[0,1],3:[0,0]} Example\n",
    "\n",
    "    def generate_and_encode(self): \n",
    "        \"\"\"\n",
    "            Will generate n bits randomly\n",
    "            For each bit generated, a basis is chosen in which it is encoded\n",
    "            Dependency for encoding: <class LinearPolarizer>\n",
    "                0-> horizontal/vertical polarization\n",
    "                1-> diagonal polarization\n",
    "            \n",
    "            Should generate a dictionary of the form self.alice mentioned above\n",
    "        \"\"\"\n",
    "        LP = LinearPolarizer()\n",
    "        encode = []\n",
    "        \n",
    "        while self.n!= 0:\n",
    "            self.alice[self.n] = [ random.randint(0,1), random.randint(0,1)]\n",
    "            if self.alice[self.n][1] == 0:\n",
    "                encode.append(LP.horizontal_vertical(self.alice[self.n][0]))\n",
    "            else:\n",
    "                encode.append(LP.diagonal_polarization(self.alice[self.n][0]))\n",
    "            self.n-=1\n",
    "        \n",
    "        return encode\n",
    "    \n",
    "\n",
    "class Bob:\n",
    "    def __init__(self, n):\n",
    "        self.n = n\n",
    "        self.bob = {} #{no. : [bit after measurement, basis chosen to measure in]}\n",
    "                      #{1:[1,0],2:[0,0],3:[1,0]} Example\n",
    "    \n",
    "    def choose_basis_and_measure(self, received):\n",
    "        \"\"\"\n",
    "            received : the data received by bob\n",
    "            Dependency for measurement: <class PolarizingBeamSplitter>\n",
    "            \n",
    "                0-> horizontal/vertical polarization\n",
    "                1-> diagonal polarization\n",
    "            \n",
    "            Should generate a dictionary of the form self.bob mentioned above\n",
    "        \"\"\"\n",
    "        #self.bob[n][0] is the measured bit\n",
    "        \n",
    "        PBS = PolarizingBeamSplitter()\n",
    "        \n",
    "        while self.n!= 0:\n",
    "            i = self.n\n",
    "            self.bob[self.n] = [0, random.randint(0,1)]\n",
    "            self.bob[self.n][0] = random.randint(0,1) if (PBS.measure(received[i-self.n], self.bob[self.n][1])[0] == PBS.measure(received[i-self.n], self.bob[self.n][1])[1]) else (0 if (PBS.measure(received[i-self.n], self.bob[self.n][1])[0]> PBS.measure(received[i-self.n], self.bob[self.n][1])[1]) else 1)\n",
    "            #Here,  picking randomly between 0 and 1 if wrong basis is choosen else 0 or 1 based of actual measurement\n",
    "            self.n-=1\n",
    "        \n"
   ]
  },
  {
   "cell_type": "code",
   "execution_count": 8,
   "metadata": {},
   "outputs": [],
   "source": [
    "alice = Alice(10)\n",
    "encoded = alice.generate_and_encode()"
   ]
  },
  {
   "cell_type": "code",
   "execution_count": 9,
   "metadata": {},
   "outputs": [],
   "source": [
    "bob = Bob(10)\n",
    "bob.choose_basis_and_measure(encoded)"
   ]
  },
  {
   "cell_type": "code",
   "execution_count": 10,
   "metadata": {},
   "outputs": [],
   "source": [
    "recon_alice, recon_bob = basis_reconciliation(alice.alice, bob.bob)\n",
    "temp_alice_r = copy.copy(recon_alice)\n",
    "temp_bob_r = copy.copy(recon_bob)"
   ]
  },
  {
   "cell_type": "code",
   "execution_count": 11,
   "metadata": {},
   "outputs": [
    {
     "data": {
      "text/plain": [
       "[1, 1, 1, 1, 1, 1]"
      ]
     },
     "execution_count": 11,
     "metadata": {},
     "output_type": "execute_result"
    }
   ],
   "source": [
    "recon_alice"
   ]
  },
  {
   "cell_type": "code",
   "execution_count": 12,
   "metadata": {},
   "outputs": [
    {
     "data": {
      "text/plain": [
       "[1, 1, 1, 0, 1, 0]"
      ]
     },
     "execution_count": 12,
     "metadata": {},
     "output_type": "execute_result"
    }
   ],
   "source": [
    "recon_bob"
   ]
  },
  {
   "cell_type": "code",
   "execution_count": 13,
   "metadata": {},
   "outputs": [],
   "source": [
    "error, count, error_rate = calc_error_rate(temp_alice_r, temp_bob_r)"
   ]
  },
  {
   "cell_type": "code",
   "execution_count": 14,
   "metadata": {},
   "outputs": [
    {
     "ename": "ZeroDivisionError",
     "evalue": "division by zero",
     "output_type": "error",
     "traceback": [
      "\u001b[0;31m---------------------------------------------------------------------------\u001b[0m",
      "\u001b[0;31mZeroDivisionError\u001b[0m                         Traceback (most recent call last)",
      "\u001b[0;32m<ipython-input-14-1e85dabd8a7f>\u001b[0m in \u001b[0;36m<module>\u001b[0;34m\u001b[0m\n\u001b[0;32m----> 1\u001b[0;31m \u001b[0mcorrected_a\u001b[0m\u001b[0;34m,\u001b[0m \u001b[0mcorrected_b\u001b[0m \u001b[0;34m=\u001b[0m \u001b[0merror_correction\u001b[0m\u001b[0;34m(\u001b[0m\u001b[0mrecon_alice\u001b[0m\u001b[0;34m,\u001b[0m \u001b[0mrecon_bob\u001b[0m\u001b[0;34m,\u001b[0m \u001b[0merror\u001b[0m\u001b[0;34m,\u001b[0m \u001b[0mcount\u001b[0m\u001b[0;34m)\u001b[0m\u001b[0;34m\u001b[0m\u001b[0;34m\u001b[0m\u001b[0m\n\u001b[0m\u001b[1;32m      2\u001b[0m \u001b[0mcorrected_a\u001b[0m\u001b[0;34m,\u001b[0m \u001b[0mcorrected_b\u001b[0m\u001b[0;34m\u001b[0m\u001b[0;34m\u001b[0m\u001b[0m\n",
      "\u001b[0;32m<ipython-input-5-cd5e3c5687a9>\u001b[0m in \u001b[0;36merror_correction\u001b[0;34m(alice_b, bob_b, error, count)\u001b[0m\n\u001b[1;32m     61\u001b[0m \u001b[0;32mdef\u001b[0m \u001b[0merror_correction\u001b[0m\u001b[0;34m(\u001b[0m\u001b[0malice_b\u001b[0m\u001b[0;34m,\u001b[0m \u001b[0mbob_b\u001b[0m\u001b[0;34m,\u001b[0m \u001b[0merror\u001b[0m\u001b[0;34m,\u001b[0m \u001b[0mcount\u001b[0m\u001b[0;34m)\u001b[0m\u001b[0;34m:\u001b[0m\u001b[0;34m\u001b[0m\u001b[0;34m\u001b[0m\u001b[0m\n\u001b[1;32m     62\u001b[0m     \u001b[0malice_sub\u001b[0m\u001b[0;34m,\u001b[0m \u001b[0mbob_sub\u001b[0m \u001b[0;34m=\u001b[0m \u001b[0;34m[\u001b[0m\u001b[0;34m]\u001b[0m\u001b[0;34m,\u001b[0m \u001b[0;34m[\u001b[0m\u001b[0;34m]\u001b[0m\u001b[0;34m\u001b[0m\u001b[0;34m\u001b[0m\u001b[0m\n\u001b[0;32m---> 63\u001b[0;31m     \u001b[0malice_sub\u001b[0m\u001b[0;34m,\u001b[0m \u001b[0mbob_sub\u001b[0m \u001b[0;34m=\u001b[0m \u001b[0mget_subsets\u001b[0m\u001b[0;34m(\u001b[0m\u001b[0merror\u001b[0m\u001b[0;34m,\u001b[0m \u001b[0mcount\u001b[0m\u001b[0;34m,\u001b[0m \u001b[0malice_b\u001b[0m\u001b[0;34m,\u001b[0m \u001b[0mbob_b\u001b[0m\u001b[0;34m)\u001b[0m\u001b[0;34m\u001b[0m\u001b[0;34m\u001b[0m\u001b[0m\n\u001b[0m\u001b[1;32m     64\u001b[0m     \u001b[0mpar_alice\u001b[0m\u001b[0;34m,\u001b[0m \u001b[0mpar_bob\u001b[0m \u001b[0;34m=\u001b[0m \u001b[0;34m[\u001b[0m\u001b[0;34m]\u001b[0m\u001b[0;34m,\u001b[0m \u001b[0;34m[\u001b[0m\u001b[0;34m]\u001b[0m\u001b[0;34m\u001b[0m\u001b[0;34m\u001b[0m\u001b[0m\n\u001b[1;32m     65\u001b[0m     \u001b[0;32mfor\u001b[0m \u001b[0mi\u001b[0m \u001b[0;32min\u001b[0m \u001b[0mrange\u001b[0m\u001b[0;34m(\u001b[0m\u001b[0mlen\u001b[0m\u001b[0;34m(\u001b[0m\u001b[0malice_sub\u001b[0m\u001b[0;34m)\u001b[0m\u001b[0;34m)\u001b[0m\u001b[0;34m:\u001b[0m\u001b[0;34m\u001b[0m\u001b[0;34m\u001b[0m\u001b[0m\n",
      "\u001b[0;32m<ipython-input-5-cd5e3c5687a9>\u001b[0m in \u001b[0;36mget_subsets\u001b[0;34m(error, count, alice_b, bob_b)\u001b[0m\n\u001b[1;32m     52\u001b[0m     \u001b[0malice\u001b[0m\u001b[0;34m,\u001b[0m \u001b[0mbob\u001b[0m \u001b[0;34m=\u001b[0m \u001b[0;34m[\u001b[0m\u001b[0;34m]\u001b[0m\u001b[0;34m,\u001b[0m \u001b[0;34m[\u001b[0m\u001b[0;34m]\u001b[0m\u001b[0;34m\u001b[0m\u001b[0;34m\u001b[0m\u001b[0m\n\u001b[1;32m     53\u001b[0m     \u001b[0mn\u001b[0m \u001b[0;34m=\u001b[0m \u001b[0mlen\u001b[0m\u001b[0;34m(\u001b[0m\u001b[0malice_b\u001b[0m\u001b[0;34m)\u001b[0m\u001b[0;34m\u001b[0m\u001b[0;34m\u001b[0m\u001b[0m\n\u001b[0;32m---> 54\u001b[0;31m     \u001b[0msubset_size\u001b[0m \u001b[0;34m=\u001b[0m \u001b[0mset_length\u001b[0m\u001b[0;34m(\u001b[0m\u001b[0merror\u001b[0m\u001b[0;34m,\u001b[0m \u001b[0mcount\u001b[0m\u001b[0;34m)\u001b[0m\u001b[0;34m\u001b[0m\u001b[0;34m\u001b[0m\u001b[0m\n\u001b[0m\u001b[1;32m     55\u001b[0m     \u001b[0;32mfor\u001b[0m \u001b[0mi\u001b[0m \u001b[0;32min\u001b[0m \u001b[0mrange\u001b[0m\u001b[0;34m(\u001b[0m\u001b[0;36m0\u001b[0m\u001b[0;34m,\u001b[0m \u001b[0mn\u001b[0m\u001b[0;34m,\u001b[0m \u001b[0msubset_size\u001b[0m\u001b[0;34m)\u001b[0m\u001b[0;34m:\u001b[0m\u001b[0;34m\u001b[0m\u001b[0;34m\u001b[0m\u001b[0m\n\u001b[1;32m     56\u001b[0m         \u001b[0malice\u001b[0m\u001b[0;34m.\u001b[0m\u001b[0mappend\u001b[0m\u001b[0;34m(\u001b[0m\u001b[0malice_b\u001b[0m\u001b[0;34m[\u001b[0m\u001b[0mi\u001b[0m\u001b[0;34m:\u001b[0m\u001b[0mi\u001b[0m\u001b[0;34m+\u001b[0m\u001b[0msubset_size\u001b[0m\u001b[0;34m]\u001b[0m\u001b[0;34m)\u001b[0m\u001b[0;34m\u001b[0m\u001b[0;34m\u001b[0m\u001b[0m\n",
      "\u001b[0;32m<ipython-input-5-cd5e3c5687a9>\u001b[0m in \u001b[0;36mset_length\u001b[0;34m(error, count)\u001b[0m\n\u001b[1;32m     16\u001b[0m \u001b[0;34m\u001b[0m\u001b[0m\n\u001b[1;32m     17\u001b[0m \u001b[0;32mdef\u001b[0m \u001b[0mset_length\u001b[0m\u001b[0;34m(\u001b[0m\u001b[0merror\u001b[0m\u001b[0;34m,\u001b[0m \u001b[0mcount\u001b[0m\u001b[0;34m)\u001b[0m\u001b[0;34m:\u001b[0m\u001b[0;34m\u001b[0m\u001b[0;34m\u001b[0m\u001b[0m\n\u001b[0;32m---> 18\u001b[0;31m     \u001b[0ms_len\u001b[0m \u001b[0;34m=\u001b[0m \u001b[0mint\u001b[0m\u001b[0;34m(\u001b[0m\u001b[0mcount\u001b[0m\u001b[0;34m/\u001b[0m\u001b[0merror\u001b[0m\u001b[0;34m)\u001b[0m\u001b[0;34m\u001b[0m\u001b[0;34m\u001b[0m\u001b[0m\n\u001b[0m\u001b[1;32m     19\u001b[0m     \u001b[0;32mif\u001b[0m \u001b[0ms_len\u001b[0m\u001b[0;34m<\u001b[0m\u001b[0;36m3\u001b[0m\u001b[0;34m:\u001b[0m\u001b[0;34m\u001b[0m\u001b[0;34m\u001b[0m\u001b[0m\n\u001b[1;32m     20\u001b[0m         \u001b[0;32mreturn\u001b[0m \u001b[0;36m3\u001b[0m\u001b[0;34m\u001b[0m\u001b[0;34m\u001b[0m\u001b[0m\n",
      "\u001b[0;31mZeroDivisionError\u001b[0m: division by zero"
     ]
    }
   ],
   "source": [
    "corrected_a, corrected_b = error_correction(recon_alice, recon_bob, error, count)\n",
    "corrected_a, corrected_b"
   ]
  },
  {
   "cell_type": "code",
   "execution_count": null,
   "metadata": {},
   "outputs": [],
   "source": [
    "privacy_amplification(len(corrected_a)*len(corrected_a[0]), error_rate, 2, corrected_a, corrected_b)"
   ]
  },
  {
   "cell_type": "code",
   "execution_count": null,
   "metadata": {},
   "outputs": [],
   "source": [
    "alice1 = Alice(100)\n",
    "encoded1 = alice1.generate_and_encode()\n",
    "bob1 = Bob(100)\n",
    "bob1.choose_basis_and_measure(encoded1)"
   ]
  },
  {
   "cell_type": "code",
   "execution_count": null,
   "metadata": {},
   "outputs": [],
   "source": [
    "recon_alice1, recon_bob1 = basis_reconciliation(alice1.alice, bob1.bob)\n",
    "temp_alice_r1 = copy.copy(recon_alice1)\n",
    "temp_bob_r1 = copy.copy(recon_bob1)"
   ]
  },
  {
   "cell_type": "code",
   "execution_count": null,
   "metadata": {},
   "outputs": [],
   "source": [
    "error1, count1, error_rate1 = calc_error_rate(temp_alice_r1, temp_bob_r1)"
   ]
  },
  {
   "cell_type": "code",
   "execution_count": null,
   "metadata": {},
   "outputs": [],
   "source": [
    "corrected_a1, corrected_b1 = error_correction(recon_alice1, recon_bob1, error1, count1)\n",
    "str(list(chain.from_iterable(corrected_a1))), str(list(chain.from_iterable(corrected_b1)))"
   ]
  },
  {
   "cell_type": "code",
   "execution_count": null,
   "metadata": {},
   "outputs": [],
   "source": []
  },
  {
   "cell_type": "code",
   "execution_count": null,
   "metadata": {},
   "outputs": [],
   "source": []
  }
 ],
 "metadata": {
  "kernelspec": {
   "display_name": "Python 3",
   "language": "python",
   "name": "python3"
  },
  "language_info": {
   "codemirror_mode": {
    "name": "ipython",
    "version": 3
   },
   "file_extension": ".py",
   "mimetype": "text/x-python",
   "name": "python",
   "nbconvert_exporter": "python",
   "pygments_lexer": "ipython3",
   "version": "3.6.9"
  }
 },
 "nbformat": 4,
 "nbformat_minor": 2
}
