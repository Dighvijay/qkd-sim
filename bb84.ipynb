{
 "cells": [
  {
   "cell_type": "code",
   "execution_count": 1,
   "metadata": {},
   "outputs": [],
   "source": [
    "def basis_reconciliation(alice, bob):\n",
    "    \"\"\"\n",
    "        alice: {no. : [bit encoded, basis chosen to encode in ]}\n",
    "        bob  : {no. : [bit after measurement, basis chosen to measure in]}\n",
    "        \n",
    "        First check if the length of both lists are the same\n",
    "            -> if yes, keep only those bits for alice and bob for which\n",
    "               the basis encoded in and measured in is the same. \n",
    "    \"\"\"\n",
    "    basis_bit_alice = list(alice.values())\n",
    "    basis_bit_bob = list(bob.values())\n",
    "    \n",
    "    if len(basis_bit_alice) == len(basis_bit_bob):\n",
    "        raw_key_alice = []\n",
    "        raw_key_bob = []\n",
    "\n",
    "        for i in range(len(basis_bit_alice)):\n",
    "            if basis_bit_alice[i][1] == basis_bit_bob[i][1]:\n",
    "                raw_key_alice.append(basis_bit_alice[i][0])\n",
    "                raw_key_bob.append(basis_bit_bob[i][0])\n",
    "\n",
    "        return raw_key_alice, raw_key_bob\n",
    "    \n",
    "    else:\n",
    "        return None, None"
   ]
  },
  {
   "cell_type": "code",
   "execution_count": 2,
   "metadata": {},
   "outputs": [],
   "source": [
    "alice = {1:[0,0],2:[0,1],3:[0,0]}\n",
    "bob = {1:[1,0],2:[0,0],3:[1,0]}"
   ]
  },
  {
   "cell_type": "code",
   "execution_count": 3,
   "metadata": {},
   "outputs": [
    {
     "data": {
      "text/plain": [
       "([0, 0], [1, 1])"
      ]
     },
     "execution_count": 3,
     "metadata": {},
     "output_type": "execute_result"
    }
   ],
   "source": [
    "basis_reconciliation(alice, bob)"
   ]
  },
  {
   "cell_type": "code",
   "execution_count": 4,
   "metadata": {},
   "outputs": [],
   "source": [
    "class Alice:\n",
    "    def __init__(self, n):\n",
    "        self.n = n\n",
    "        self.alice = {} #{no. : [bit encoded, basis chosen to encode in ]} no. is some unique number\n",
    "                        #{1:[0,0],2:[0,1],3:[0,0]} Example\n",
    "\n",
    "    def generate_and_encode(self): #TODO Dighvijay\n",
    "        \"\"\"\n",
    "            Will generate n bits randomly\n",
    "            For each bit generated, a basis is chosen in which it is encoded\n",
    "            Dependency for encoding: <class LinearPolarizer>\n",
    "                0-> horizontal/vertical polarization\n",
    "                1-> diagonal polarization\n",
    "            \n",
    "            Should generate a dictionary of the form self.alice mentioned above\n",
    "        \"\"\"\n",
    "        pass\n",
    "    \n",
    "\n",
    "class Bob:\n",
    "    def __init__(self, n):\n",
    "        self.n = n\n",
    "        self.bob = {} #{no. : [bit after measurement, basis chosen to measure in]}\n",
    "                      #{1:[1,0],2:[0,0],3:[1,0]} Example\n",
    "    \n",
    "    def choose_basis_and_measure(self, received): #TODO Dighvijay\n",
    "        \"\"\"\n",
    "            received : the data received by bob\n",
    "            Dependency for measurement: <class PolarizingBeamSplitter>\n",
    "            \n",
    "                0-> horizontal/vertical polarization\n",
    "                1-> diagonal polarization\n",
    "            \n",
    "            Should generate a dictionary of the form self.bob mentioned above\n",
    "        \"\"\"\n",
    "        pass\n",
    "    \n",
    "    "
   ]
  },
  {
   "cell_type": "code",
   "execution_count": null,
   "metadata": {},
   "outputs": [],
   "source": []
  }
 ],
 "metadata": {
  "kernelspec": {
   "display_name": "Python 3",
   "language": "python",
   "name": "python3"
  },
  "language_info": {
   "codemirror_mode": {
    "name": "ipython",
    "version": 3
   },
   "file_extension": ".py",
   "mimetype": "text/x-python",
   "name": "python",
   "nbconvert_exporter": "python",
   "pygments_lexer": "ipython3",
   "version": "3.6.9"
  }
 },
 "nbformat": 4,
 "nbformat_minor": 2
}
