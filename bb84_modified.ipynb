{
 "cells": [
  {
   "cell_type": "code",
   "execution_count": 1,
   "metadata": {},
   "outputs": [],
   "source": [
    "def basis_reconciliation(alice, bob):\n",
    "    \"\"\"\n",
    "        alice: {no. : [bit encoded, basis chosen to encode in ]}\n",
    "        bob  : {no. : [bit after measurement, basis chosen to measure in]}\n",
    "        \n",
    "        First check if the length of both lists are the same\n",
    "            -> if yes, keep only those bits for alice and bob for which\n",
    "               the basis encoded in and measured in is the same. \n",
    "    \"\"\"\n",
    "    basis_bit_alice = list(alice.values())\n",
    "    basis_bit_bob = list(bob.values())\n",
    "    \n",
    "    if len(basis_bit_alice) == len(basis_bit_bob):\n",
    "        raw_key_alice = []\n",
    "        raw_key_bob = []\n",
    "\n",
    "        for i in range(len(basis_bit_alice)):\n",
    "            if basis_bit_alice[i][1] == basis_bit_bob[i][1]:\n",
    "                raw_key_alice.append(basis_bit_alice[i][0])\n",
    "                raw_key_bob.append(basis_bit_bob[i][0])\n",
    "\n",
    "        return raw_key_alice, raw_key_bob\n",
    "    \n",
    "    else:\n",
    "        return None, None"
   ]
  },
  {
   "cell_type": "code",
   "execution_count": 2,
   "metadata": {},
   "outputs": [],
   "source": [
    "alice = {1:[0,0],2:[0,1],3:[0,0]}\n",
    "bob = {1:[1,0],2:[0,0],3:[1,0]}"
   ]
  },
  {
   "cell_type": "code",
   "execution_count": 3,
   "metadata": {},
   "outputs": [
    {
     "data": {
      "text/plain": [
       "([0, 0], [1, 1])"
      ]
     },
     "execution_count": 3,
     "metadata": {},
     "output_type": "execute_result"
    }
   ],
   "source": [
    "basis_reconciliation(alice, bob)"
   ]
  },
  {
   "cell_type": "code",
   "execution_count": 27,
   "metadata": {},
   "outputs": [],
   "source": [
    "import random\n",
    "import numpy as np\n",
    "import math"
   ]
  },
  {
   "cell_type": "code",
   "execution_count": 28,
   "metadata": {},
   "outputs": [],
   "source": [
    "class LinearPolarizer:\n",
    "    def __init__(self):\n",
    "        \n",
    "        self.x = np.array([[1], [0]])\n",
    "        self.y = np.array([[0], [1]])\n",
    "    \n",
    "    def horizontal_vertical(self, bit):\n",
    "        if bit == 0:\n",
    "            return self.x\n",
    "        else:\n",
    "            return self.y\n",
    "    \n",
    "    def diagonal_polarization(self, bit):\n",
    "        jones = (1/np.sqrt(2))*np.array([[1,1],[1,-1]])\n",
    "        \n",
    "        if bit == 0:\n",
    "            return np.dot(jones, self.x)\n",
    "        else:\n",
    "            return np.dot(jones, self.y)\n",
    "    \n",
    "    def general_polarization(self, angle, basis):\n",
    "        \"\"\"\n",
    "            angle to be in degrees\n",
    "        \"\"\"\n",
    "        angle = (math.pi/180) * (angle)\n",
    "        jones = np.array([[np.cos(angle), np.sin(angle)], [np.sin(angle), -np.cos(angle)]])\n",
    "        \n",
    "        return np.dot(jones, basis)\n",
    "\n",
    "class PolarizingBeamSplitter:\n",
    "    def __init__(self):\n",
    "        pass\n",
    "    \n",
    "    def measure(self, vector, basis):\n",
    "        \"\"\"\n",
    "            basis  : basis chosen by bob to measure polarization encoded photon\n",
    "                        0 -> horizontal/vertical \n",
    "                        1 -> diagonal\n",
    "            vector : Jones vector for polarized photon\n",
    "            \n",
    "            returns a dictionary with probabilities of the encoded bit sent by Alice being 0 or 1\n",
    "        \"\"\"\n",
    "        #horizontal-vertical can be clubbed into an identity matrix\n",
    "        horizontal = np.array([[1, 0], [0, 0]])\n",
    "        vertical = np.array([[0, 0], [0, 1]])\n",
    "        plus_minus = (1/np.sqrt(2))*np.array([[1,1],[1,-1]])\n",
    "\n",
    "        if basis == 0:\n",
    "            zero = np.dot(horizontal, vector)[0]\n",
    "            one = np.dot(vertical, vector)[1]\n",
    "        \n",
    "        elif basis == 1:\n",
    "            zero = np.dot(plus_minus, vector)[0]\n",
    "            one = np.dot(plus_minus, vector)[1]\n",
    "        else:\n",
    "            print(\"here\")\n",
    "            return None\n",
    "            \n",
    "        return {0: zero[0]**2, 1: one[0]**2}"
   ]
  },
  {
   "cell_type": "code",
   "execution_count": 37,
   "metadata": {},
   "outputs": [],
   "source": [
    "class Alice:\n",
    "    def __init__(self, n):\n",
    "        self.n = n\n",
    "        self.alice = {} #{no. : [bit encoded, basis chosen to encode in ]} no. is some unique number\n",
    "                        #{1:[0,0],2:[0,1],3:[0,0]} Example\n",
    "\n",
    "    def generate_and_encode(self): \n",
    "        \"\"\"\n",
    "            Will generate n bits randomly\n",
    "            For each bit generated, a basis is chosen in which it is encoded\n",
    "            Dependency for encoding: <class LinearPolarizer>\n",
    "                0-> horizontal/vertical polarization\n",
    "                1-> diagonal polarization\n",
    "            \n",
    "            Should generate a dictionary of the form self.alice mentioned above\n",
    "        \"\"\"\n",
    "        LP = LinearPolarizer()\n",
    "        while self.n!= 0:\n",
    "            self.alice[self.n] = [ random.randint(0,1), random.randint(0,1)]\n",
    "            if self.alice[self.n][1] == 0:\n",
    "                self.alice[self.n].append(LP.horizontal_vertical(self.alice[self.n][0]))\n",
    "            else:\n",
    "                self.alice[self.n].append(LP.diagonal_polarization(self.alice[self.n][0]))\n",
    "            self.n-=1\n",
    "        pass\n",
    "    \n",
    "\n",
    "class Bob:\n",
    "    def __init__(self, n):\n",
    "        self.n = n\n",
    "        self.bob = {} #{no. : [bit after measurement, basis chosen to measure in]}\n",
    "                      #{1:[1,0],2:[0,0],3:[1,0]} Example\n",
    "    \n",
    "    def choose_basis_and_measure(self, received):\n",
    "        \"\"\"\n",
    "            received : the data received by bob\n",
    "            Dependency for measurement: <class PolarizingBeamSplitter>\n",
    "            \n",
    "                0-> horizontal/vertical polarization\n",
    "                1-> diagonal polarization\n",
    "            \n",
    "            Should generate a dictionary of the form self.bob mentioned above\n",
    "        \"\"\"\n",
    "        #self.bob[n][0] is the measured bit\n",
    "        \n",
    "        PBS = PolarizingBeamSplitter()\n",
    "        \n",
    "        while self.n!= 0:\n",
    "            self.bob[self.n] = [0, random.randint(0,1), received]\n",
    "            self.bob[self.n][0] = 0 if (PBS.measure(self.bob[self.n][2], self.bob[self.n][1])[0]>PBS.measure(self.bob[self.n][2], self.bob[self.n][1])[1]) else 1\n",
    "            self.n-=1\n",
    "        pass\n",
    "    \n",
    "    "
   ]
  },
  {
   "cell_type": "code",
   "execution_count": 34,
   "metadata": {},
   "outputs": [],
   "source": [
    "a = Alice(5)"
   ]
  },
  {
   "cell_type": "code",
   "execution_count": 35,
   "metadata": {},
   "outputs": [],
   "source": [
    "a.generate_and_encode()"
   ]
  },
  {
   "cell_type": "code",
   "execution_count": 36,
   "metadata": {},
   "outputs": [
    {
     "data": {
      "text/plain": [
       "{5: [1,\n",
       "  0,\n",
       "  array([[0],\n",
       "         [1]])],\n",
       " 4: [0,\n",
       "  0,\n",
       "  array([[1],\n",
       "         [0]])],\n",
       " 3: [0,\n",
       "  1,\n",
       "  array([[0.70710678],\n",
       "         [0.70710678]])],\n",
       " 2: [0,\n",
       "  0,\n",
       "  array([[1],\n",
       "         [0]])],\n",
       " 1: [1,\n",
       "  0,\n",
       "  array([[0],\n",
       "         [1]])]}"
      ]
     },
     "execution_count": 36,
     "metadata": {},
     "output_type": "execute_result"
    }
   ],
   "source": [
    "a.alice"
   ]
  },
  {
   "cell_type": "code",
   "execution_count": 45,
   "metadata": {},
   "outputs": [],
   "source": [
    "b = Bob(1)"
   ]
  },
  {
   "cell_type": "code",
   "execution_count": 46,
   "metadata": {},
   "outputs": [],
   "source": [
    "b.choose_basis_and_measure(np.array([[1],[0]]))"
   ]
  },
  {
   "cell_type": "code",
   "execution_count": 47,
   "metadata": {},
   "outputs": [
    {
     "data": {
      "text/plain": [
       "{1: [0,\n",
       "  0,\n",
       "  array([[1],\n",
       "         [0]])]}"
      ]
     },
     "execution_count": 47,
     "metadata": {},
     "output_type": "execute_result"
    }
   ],
   "source": [
    "b.bob"
   ]
  }
 ],
 "metadata": {
  "kernelspec": {
   "display_name": "Python 3",
   "language": "python",
   "name": "python3"
  },
  "language_info": {
   "codemirror_mode": {
    "name": "ipython",
    "version": 3
   },
   "file_extension": ".py",
   "mimetype": "text/x-python",
   "name": "python",
   "nbconvert_exporter": "python",
   "pygments_lexer": "ipython3",
   "version": "3.6.8"
  }
 },
 "nbformat": 4,
 "nbformat_minor": 2
}
